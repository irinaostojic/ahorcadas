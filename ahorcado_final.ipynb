{
 "cells": [
  {
   "cell_type": "code",
   "execution_count": null,
   "id": "3914fae4",
   "metadata": {},
   "outputs": [
    {
     "name": "stdout",
     "output_type": "stream",
     "text": [
      "¡BIENVENIDO AL JUEGO DEL AHORCADO!\n",
      "comunicación\n",
      "Tu palabra contiene 12 letras\n",
      "_ _ _ _ _ _ _ _ _ _ _ _ \n"
     ]
    }
   ],
   "source": [
    "import random # necesitamos la librería para combinaciones aleatorias\n",
    "\n",
    "palabras = ['lógica', 'proactividad', 'creatividad', 'resiliencia', 'comunicación'] #hay que tener cuidado más adelante de las palabras que tienen acento\n",
    "      \n",
    "palabra = random.choice(palabras) #python me saca una aleatoria\n",
    "\n",
    "print(\"¡BIENVENIDO AL JUEGO DEL AHORCADO!\")    #mensaje de entrada para empezar el juego\n",
    "print(palabra) #quiero ver la palabra qué es solo para ir viendo qué pasa y probando \n",
    "print(f\"Tu palabra contiene {len(palabra)} letras\")  #nos dice las letras que tiene la palabra a adivinar\n",
    "print(len(palabra) * \"_ \") #para ver desde el principio los guiones de nuestra palabra\n",
    "\n",
    "# necesitamos listas vacías tanto de las letras correctas como de las incorrectas para ir llenándolas\n",
    "letras_correctas = []\n",
    "letras_incorrectas = []\n",
    "intentos = 6  #los intentos los definimos según los elementos de la lista del ahorcado memos 1, el primero es la estructura donde cuelga\n",
    "fallos = 0 #empezamos en cero y el máximo serán los intentos definidos\n",
    "\n"
   ]
  },
  {
   "cell_type": "code",
   "execution_count": null,
   "id": "124208d1",
   "metadata": {},
   "outputs": [
    {
     "name": "stdout",
     "output_type": "stream",
     "text": [
      "_ _ _ _ _ _ _ _ _ _ _ _ ¡Bien! La letra 'a' está en la palabra.\n",
      "_ _ _ _ _ _ _ a _ _ _ _ La letra 's' no está en la palabra\n",
      "_ _ _ _ _ _ _ a _ _ _ _ Has introducido un carácter que no es una letra o has introducido más de una letra\n",
      "_ _ _ _ _ _ _ a _ _ _ _ La letra 'd' no está en la palabra\n",
      "_ _ _ _ _ _ _ a _ _ _ _ Has introducido un carácter que no es una letra o has introducido más de una letra\n",
      "_ _ _ _ _ _ _ a _ _ _ _ Has introducido un carácter que no es una letra o has introducido más de una letra\n",
      "_ _ _ _ _ _ _ a _ _ _ _ "
     ]
    }
   ],
   "source": [
    "\n",
    "while True:\n",
    "    \n",
    "    #1. Primer bucle:\n",
    "    # Si la letra está en letras correctas (letras correctas es una lista que va a ir rellenándose en cada nueva entrada al bucle, hay que crearla vacía en un principio para poder ir llenándola)\n",
    "    # hay que entender el for del inicio en su conjunto, es decir aunque se parta de una lista vacía de palabras correctas, está todo el rato llenándose en cada entrada nueva al bucle\n",
    "   \n",
    "    for letra in palabra:\n",
    "        if letra.lower() in letras_correctas:\n",
    "            print(letra, end=\" \")\n",
    "\n",
    "        else:\n",
    "            print(\"_\", end=\" \")\n",
    "\n",
    "\n",
    "    # Pedir letra al usuario\n",
    "    letra = input(\"Introduce una letra: \").strip().lower()\n",
    "\n",
    "    # Aquí estamos creando un programa que le diga a python que si introducimos un carácter que no es una letra o más de una letra, nos lo avise\n",
    "    if len(letra) != 1 or not letra.isalpha(): \n",
    "        print(\"Has introducido un carácter que no es una letra o has introducido más de una letra\")\n",
    "        continue\n",
    "\n",
    "\n",
    "    #2. Comprobar si la letra está en la palabra\n",
    "    if letra in palabra:\n",
    "        letras_correctas.append(letra)    #si la letra que hemos dicho está en la palabra, se añade a la lista de letras correctas\n",
    "        print(f\"¡Bien! La letra '{letra}' está en la palabra.\")\n",
    "    else:\n",
    "        letras_incorrectas.append(letra)  # si no está en la lista de correctas, va a incorrectas y se suma un fallo\n",
    "        fallos += 1\n",
    "        print(f\"La letra '{letra}' no está en la palabra\")\n",
    "\n",
    "\n",
    "    # Ahora queremos saber cómo va evolucionando el juego, si pierde o si gana\n",
    "\n",
    "    letras_sin_repetir = set()  # creamos un set vacío de las letras. Las letras sin repeticiones, por eso hacemos un set\n",
    "\n",
    "    for letra in palabra:\n",
    "        letras_sin_repetir.add(letra.lower()) #añadimos cada letra en minúscula\n",
    "        \n",
    "\n",
    "    # Recorremos las letras\n",
    "    # Creamos una variable booleana\n",
    "    acertado = True   #aquí estamos creando una variable para saber si ha ganado o no\n",
    "    for letra in letras_sin_repetir:\n",
    "        if letra not in letras_correctas:\n",
    "            acertado = False\n",
    "            break \n",
    "\n",
    "    if acertado: #si acertado es verdad, imprime que has acertado la palabra\n",
    "        print(f\"¡ENHORABUENA! HAS ACERTADO LA PALABRA: {palabra}\")\n",
    "        break #salgo del bucle porque ya he acertado\n",
    "\n",
    "\n",
    "    if fallos == intentos:\n",
    "        print(f\"¡GAME OVER! La palabra era: {palabra}\")\n",
    "        break #salir del bucle si has consumido todos los intentos permitidos\n",
    "\n"
   ]
  }
 ],
 "metadata": {
  "kernelspec": {
   "display_name": "base",
   "language": "python",
   "name": "python3"
  },
  "language_info": {
   "codemirror_mode": {
    "name": "ipython",
    "version": 3
   },
   "file_extension": ".py",
   "mimetype": "text/x-python",
   "name": "python",
   "nbconvert_exporter": "python",
   "pygments_lexer": "ipython3",
   "version": "3.13.5"
  }
 },
 "nbformat": 4,
 "nbformat_minor": 5
}
