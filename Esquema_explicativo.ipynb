{
 "cells": [
  {
   "cell_type": "code",
   "execution_count": null,
   "id": "ab3a22b4",
   "metadata": {},
   "outputs": [],
   "source": [
    "# Se ha puesto mistakes en forma de diccionario para que pueda imprimirse después los fallos de cada jugador. Con un contador únicamente, solo cuentan los fallos del primer jugador.\n",
    "\n",
    "# Como nuestra lógica de juego es que se cambie el turno si el otro falla:\n",
    "\n",
    "# Jugador actual es turn. EL otro jugador es 1-turn. Cuando turn falla, el jugador 1-turn pasa a turn y viceversa. Así sucesivamente en el bucle.\n",
    "\n",
    "# Creamos variable de jugador que falla para mayor comprensión de la parte de derrota y victoria.\n",
    "\n",
    "# La palabra la mantenemos imprimiéndose para mayor facilidad al probar el juego.\n",
    "\n",
    "# Se muestran print con letras, usadas, la palabra revelándose parcialmente, los intentos que le quedan a cada jugador.\n",
    "\n",
    "# Los intentos que se imprimen para cada jugador, son los que le quedan al inicio de esa ronda que acaba de empezar para él.\n",
    "\n",
    "# Cuando un jugador introduce una letra que ya está usada, no se gasta ningún intento.\n",
    "\n",
    "# Para que el juego se ejecute correctamente es necesario tener el archivo terror.mp3 en la misma carpeta en la que se aloja el juego.\n",
    "# También es necesario ejecutar los siguientes comandos en la termina, por este orden:\n",
    "\n",
    "pip3 install pygame\n",
    "\n",
    "python3\n",
    "\n",
    "import pygame print(pygame.ver)"
   ]
  }
 ],
 "metadata": {
  "language_info": {
   "name": "python"
  }
 },
 "nbformat": 4,
 "nbformat_minor": 5
}
