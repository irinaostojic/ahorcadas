{
 "cells": [
  {
   "cell_type": "code",
   "execution_count": null,
   "id": "b22f0052",
   "metadata": {},
   "outputs": [],
   "source": [
    "\n",
    "LÓGICA GENERAL DEL JUEGO\n",
    "\n",
    "Selección de palabras aleatoria y frases de terror también aleatorias según la situación concreta (acierto, fallo, victoria, derrota).\n",
    "\n",
    "Validaciones de entrada, para que no se acepten caracteres inválidos (como por ejemplo números) ni letras repetidas.\n",
    "\n",
    "Aviso de que las palabras ya se han usado.\n",
    "\n",
    "Normalización de acentos, evitando que los jugadores tengan problemas con vocales acentuadas o cuando se introducen erróneamente vocales acentuadas que no lo están.\n",
    "\n",
    "Dibujo del ahorcado que se va actualizando con los fallos.\n",
    "\n",
    "Sistema de turnos entre dos jugadores. Cuando uno falla una letra, comienza el turno del otro y así sucesivamente durante todo el juego.\n",
    "\n",
    "Marcador de puntos para cada uno de los jugadores.\n"
   ]
  }
 ],
 "metadata": {
  "language_info": {
   "name": "python"
  }
 },
 "nbformat": 4,
 "nbformat_minor": 5
}
