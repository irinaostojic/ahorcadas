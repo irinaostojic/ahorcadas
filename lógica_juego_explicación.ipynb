{
 "cells": [
  {
   "cell_type": "code",
   "execution_count": null,
   "id": "b22f0052",
   "metadata": {},
   "outputs": [],
   "source": [
    "\n",
    "LÓGICA GENERAL DEL JUEGO\n",
    "\n",
    "Selección de palabras aleatoria y frases de terror también aleatorias según la situación concreta (acierto, fallo, victoria, derrota).\n",
    "\n",
    "Validaciones de entrada, para que no se acepten caracteres inválidos (como por ejemplo números) ni letras repetidas.\n",
    "\n",
    "Aviso de que las palabras ya se han usado.\n",
    "\n",
    "Normalización de acentos, evitando que los jugadores tengan problemas con vocales acentuadas o cuando se introducen erróneamente vocales acentuadas que no lo están.\n",
    "\n",
    "Dibujo del ahorcado que se va actualizando con los fallos.\n",
    "\n",
    "Sistema de turnos entre dos jugadores. Cuando uno falla una letra, comienza el turno del otro y así sucesivamente durante todo el juego.\n",
    "\n",
    "Marcador de puntos para cada uno de los jugadores.\n"
   ]
  },
  {
   "cell_type": "code",
   "execution_count": null,
   "id": "bf260fd7",
   "metadata": {},
   "outputs": [],
   "source": [
    "#### EXPLICACIÓN DEL IF\n",
    "\n",
    "   if letra in [acentos.get(x, x) for x in palabra.lower()]:\n",
    "        letras_correctas.add(letra)\n",
    "        print(f\"{random.choice(frases_terror['acierto'])}. La '{letra}' está en la palabra buscada\")\n",
    "    else:\n",
    "        letras_incorrectas.add(letra)\n",
    "        fallos += 1\n",
    "        print(f\"{random.choice(frases_terror['fallo'])}. La '{letra}' no está en la palabra buscada\")\n",
    "        print(f\"Te quedan {intentos - fallos} intentos\")\n",
    "        turno = 1 - turno  # cambiar turno solo si falla. Ponemo esto dentro del else, para que cambie de turno de jugador cada vez que falla el otro\n",
    "        if fallos < intentos:\n",
    "            print(f\"Ahora es el turno de {jugadores[turno]}\")\n",
    "\n",
    "\n",
    "### Esta parte del código significa:\n",
    "# Primero compruefa que la letra esté en la palabra, con la normalización de acentos ya considerada. \n",
    "# si está, la añade a nuestro set de letras correctas e imprime mensaje.\n",
    "\n",
    "# Si no está, se suma un fallo, se imprimien mensajes\n",
    "# Además en el else le estamos diciendo que cambie de turno de jugador cuando haya fallo\n",
    "# si fallos < intentos imprime el mensaje de que es el turno del otro jugador:\n",
    "# (esto es así porque si ya hubiese fallado todos los intentos pues estaría perdida la partida ya, no hay más turnos.\n"
   ]
  },
  {
   "cell_type": "code",
   "execution_count": null,
   "id": "ad9a6f30",
   "metadata": {},
   "outputs": [],
   "source": [
    "### EXPLICACIÓN DE Condición de Aciertos en el Juego\n",
    "    if letras_correctas >= set(acentos.get(x, x) for x in palabra.lower()):\n",
    "        print(random.choice(frases_terror[\"victoria\"]))\n",
    "        print(f\"¡{jugadores[turno]} ERES EL GANADOR DEL JUEGO DEL AHORCADO! La palabra era: {palabra}\")\n",
    "        puntos[jugadores[turno]] += 1  # va sumando puntos al que acierta\n",
    "        print(f\"Marcador actual: {jugadores[0]}: {puntos[jugadores[0]]} | {jugadores[1]}: {puntos[jugadores[1]]}\")\n",
    "        break\n",
    "\n",
    "\n",
    "## el operador >= en los set se refiere a que letras_correctas contiene todas las letras de la palabra. Si es así, el jugador ha ganado.\n",
    "## Es el operador que se utiliza en conjuntos para eso. \n",
    "# Pero podríamos haber puesto el método issuperset para ver si letras_correctas contiene todos los elementos del set"
   ]
  }
 ],
 "metadata": {
  "language_info": {
   "name": "python"
  }
 },
 "nbformat": 4,
 "nbformat_minor": 5
}
