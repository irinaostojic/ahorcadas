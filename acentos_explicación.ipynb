{
 "cells": [
  {
   "cell_type": "code",
   "execution_count": null,
   "id": "646c98d0",
   "metadata": {},
   "outputs": [],
   "source": [
    "### EXPLICACIÓN PASO POR PASO DE LOS ACENTOS\n",
    "## lO hacemos así porque si no, hay que estar importando librerías, y hacer un pifostio bastante raro"
   ]
  },
  {
   "cell_type": "code",
   "execution_count": null,
   "id": "8e3df746",
   "metadata": {},
   "outputs": [],
   "source": [
    "#1. Hemos creado un diccionario de vocales acentuadas y sin acentuar\n",
    "acentos = {\n",
    "    'á': 'a', 'é': 'e', 'í': 'i', 'ó': 'o', 'ú': 'u',\n",
    "    'à': 'a', 'è': 'e', 'ì': 'i', 'ò': 'o', 'ù': 'u'\n",
    "}\n",
    "\n",
    "# El fin de ésto es que si ingresamos una vocal sin acento y la tiene, o viceversa, que la entrada se considere correcta.\n"
   ]
  },
  {
   "cell_type": "code",
   "execution_count": null,
   "id": "1d7b33db",
   "metadata": {},
   "outputs": [],
   "source": [
    "#2. Con el método get hacemos normalización de las letras. Esto quiere decir:\n",
    "# El método va recorriendo el diccionario y busca si la letra está en las claves del diccionario.\n",
    "# Si la letra está en el diccionario, pues devuelve su valor\n",
    "# Si la letra no está, pues la devuelve tal cual (por eso en el segundo parámetro de get pone letra)\n",
    "\n",
    "letra = acentos.get(letra, letra)  # normalizamos la entrada"
   ]
  },
  {
   "cell_type": "code",
   "execution_count": null,
   "id": "3cf51284",
   "metadata": {},
   "outputs": [],
   "source": [
    "#3. En la parte de:\n",
    "\n",
    "if letra in [acentos.get(x, x) for x in palabra.lower()]:\n",
    "\n",
    "# Se va comparando la letra que introducimos con las letras que tiene la palabra.\n",
    "# Es decir, estamos recorriendo la palabra letra por letra, pero con un list comprehension porque con un bucle for se liaría mucho más.\n",
    "# Para cada letra aplica el get que hemos visto antes.\n",
    "# con esto se crea una lista de letras normalizadas que son las que vamos comparando con la letra introducida.\n",
    "# Con esto es con lo que si introducimos una letra con acento que no lo tiene, o sin acento, y lo tiene, pues que no nos de error.\n"
   ]
  },
  {
   "cell_type": "code",
   "execution_count": null,
   "id": "42fa0372",
   "metadata": {},
   "outputs": [],
   "source": [
    "#4. Por último, aquí:\n",
    "\n",
    "if letras_correctas >= set(acentos.get(x, x) for x in palabra.lower()):\n",
    "\n",
    "# Aquí lo que queremos es comprobar si TODAS las letras de la palabra se han adivinado.\n",
    "# Ese set, lo que hace es generar un conjunto de letras de la palabra normalizada sin acentos\n",
    "ç"
   ]
  }
 ],
 "metadata": {
  "language_info": {
   "name": "python"
  }
 },
 "nbformat": 4,
 "nbformat_minor": 5
}
