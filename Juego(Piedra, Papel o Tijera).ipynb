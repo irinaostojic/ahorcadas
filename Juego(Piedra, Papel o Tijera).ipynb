{
 "cells": [
  {
   "cell_type": "code",
   "execution_count": 1,
   "id": "1c35ad9a",
   "metadata": {},
   "outputs": [
    {
     "name": "stdout",
     "output_type": "stream",
     "text": [
      "\n",
      "Tú elegiste: tijeras\n",
      "La computadora eligió: papel\n",
      "\n",
      "🎉 ¡Ganaste!\n"
     ]
    }
   ],
   "source": [
    "import random\n",
    "\n",
    "# Opciones del juego\n",
    "opciones = [\"piedra\", \"papel\", \"tijeras\"]\n",
    "\n",
    "# Elección del usuario\n",
    "usuario = input(\"Elige: piedra, papel o tijeras ➡ \")\n",
    "\n",
    "# Elección de la computadora\n",
    "computadora = random.choice(opciones)\n",
    "\n",
    "print(f\"\\nTú elegiste: {usuario}\")\n",
    "print(f\"La computadora eligió: {computadora}\\n\")\n",
    "\n",
    "# Reglas del juego\n",
    "if usuario == computadora:\n",
    "    print(\"¡Empate!\")\n",
    "elif (usuario == \"piedra\" and computadora == \"tijeras\") \\\n",
    "     or (usuario == \"papel\" and computadora == \"piedra\") \\\n",
    "     or (usuario == \"tijeras\" and computadora == \"papel\"):\n",
    "    print(\"🎉 ¡Ganaste!\")\n",
    "else:\n",
    "    print(\"😢 Perdiste.\")"
   ]
  }
 ],
 "metadata": {
  "kernelspec": {
   "display_name": "Python 3",
   "language": "python",
   "name": "python3"
  },
  "language_info": {
   "codemirror_mode": {
    "name": "ipython",
    "version": 3
   },
   "file_extension": ".py",
   "mimetype": "text/x-python",
   "name": "python",
   "nbconvert_exporter": "python",
   "pygments_lexer": "ipython3",
   "version": "3.13.5"
  }
 },
 "nbformat": 4,
 "nbformat_minor": 5
}
