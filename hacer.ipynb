{
 "cells": [
  {
   "cell_type": "markdown",
   "id": "cec86e67",
   "metadata": {},
   "source": [
    "### COSAS QUE TENEMOS QUE HACER"
   ]
  },
  {
   "cell_type": "markdown",
   "id": "47207288",
   "metadata": {},
   "source": [
    "#### Definir función para que jueguen dos jugadores o más\n",
    "#### Introducir más print, ponerlos bien, poner iconos etc\n",
    "#### Introducir un marcador de puntos\n",
    "#### Introducir más palabras\n",
    "#### Poner un método que si nos equivocamos y ponemos tilde o no la ponemos esté bien igualmente\n",
    "#### Poner las palabras de las variables etc en inglés, queda más profesional\n",
    "#### Ir preparando la estructura general del canvas\n",
    "### Hablar con Rocío"
   ]
  }
 ],
 "metadata": {
  "language_info": {
   "name": "python"
  }
 },
 "nbformat": 4,
 "nbformat_minor": 5
}
