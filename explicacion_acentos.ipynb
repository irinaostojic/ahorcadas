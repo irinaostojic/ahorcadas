{
 "cells": [
  {
   "cell_type": "code",
   "execution_count": null,
   "id": "8076b0d7",
   "metadata": {},
   "outputs": [],
   "source": [
    "### EXPLICACIÓN DE LOS ACENTOS"
   ]
  },
  {
   "cell_type": "code",
   "execution_count": null,
   "id": "09162258",
   "metadata": {},
   "outputs": [],
   "source": [
    "### Creamos un diccionario que relaciona cada vocal con acento con esa misma vocal sin acento\n",
    "acentos = {\n",
    "    'á': 'a', 'é': 'e', 'í': 'i', 'ó': 'o', 'ú': 'u',\n",
    "    'à': 'a', 'è': 'e', 'ì': 'i', 'ò': 'o', 'ù': 'u'\n",
    "}"
   ]
  },
  {
   "cell_type": "code",
   "execution_count": null,
   "id": "e3737d53",
   "metadata": {},
   "outputs": [],
   "source": [
    "## Cuando el jugador escribe una letra, hacemos:\n",
    "\n",
    "letra = acentos.get(letra, letra)\n",
    "\n",
    "# Quiere decir:\n",
    "# Si la letra está en el diccionario acentos, devuelve la letra sin acento.\n",
    "# Si no está, devuelve la misma letra.\n",
    "\n",
    "\n"
   ]
  },
  {
   "cell_type": "code",
   "execution_count": null,
   "id": "14fa7cc9",
   "metadata": {},
   "outputs": [],
   "source": [
    "## El if y el bucle for del principio modificados\n",
    "## ES Decir, esta parte\n",
    "\n",
    "if letra in [acentos.get(c, c) for c in palabra.lower()]:\n",
    "    for letra_original in palabra:\n",
    "    letra_sin_acento = acentos.get(letra_original.lower(), letra_original.lower())\n",
    "    if letra_sin_acento in letras_correctas:\n",
    "        print(letra_original, end=\" \")  # mostramos con tilde si la tenía\n",
    "    else:\n",
    "        print(\"_\", end=\" \")\n",
    "\n",
    "        # convertimos cada letra de la palabra a su versión sin tilde en el momento de la comparación\n",
    "        # Aunque guardamos y comparamos las letras sin acento, \n",
    "        # al mostrar el primer bucle de mostrar palabra o guión, usamos la letra original de la palabra para que se vea con su acento correctamente"
   ]
  },
  {
   "cell_type": "code",
   "execution_count": null,
   "id": "0ef03524",
   "metadata": {},
   "outputs": [],
   "source": [
    "## la parte de [acentos.get(c, c) for c in palabra.lower()] es una list comprehension , podría hacerse con un bucle for pero sería mucho más lioso\n",
    "\n",
    "## si se hace importando la librería de metaunicode se hace muy complejo, entonces es mejor directamente meterlo en nuestro código tal cual lo teníamos ya planteado"
   ]
  }
 ],
 "metadata": {
  "kernelspec": {
   "display_name": "base",
   "language": "python",
   "name": "python3"
  },
  "language_info": {
   "codemirror_mode": {
    "name": "ipython",
    "version": 3
   },
   "file_extension": ".py",
   "mimetype": "text/x-python",
   "name": "python",
   "nbconvert_exporter": "python",
   "pygments_lexer": "ipython3",
   "version": "3.13.5"
  }
 },
 "nbformat": 4,
 "nbformat_minor": 5
}
