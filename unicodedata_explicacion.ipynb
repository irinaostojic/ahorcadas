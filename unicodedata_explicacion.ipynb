{
 "cells": [
  {
   "cell_type": "code",
   "execution_count": null,
   "id": "952df920",
   "metadata": {},
   "outputs": [],
   "source": [
    "# Librería unicodedata\n",
    "\n",
    "\n",
    "unicodedata.normalize('NFKD', word) # Descompone caracteres con acentos en su forma base + el acento separado.\n",
    "# (una vocal se divide en esa vocal + su acento, pasa a dos carácteres por así decirlo)\n",
    "\n",
    ".encode('ASCII', 'ignore') # Convierte a bytes ASCII, eliminando los acentos.\n",
    "\n",
    "\n",
    ".decode('utf-8') # Devuelve el string limpio sin acentos.\n",
    "\n",
    "# Todas las palabras se van a manejar internamente sin acentos.\n",
    "\n"
   ]
  },
  {
   "cell_type": "code",
   "execution_count": null,
   "id": "7f04d535",
   "metadata": {},
   "outputs": [],
   "source": [
    "# Normalizar la letra introducida \n",
    "\n",
    "letter = input(\"Introduce una letra: \").strip().lower()\n",
    "letter = unicodedata.normalize('NFKD', letter).encode('ASCII', 'ignore').decode('utf-8')\n",
    "\n"
   ]
  },
  {
   "cell_type": "code",
   "execution_count": null,
   "id": "a60e443a",
   "metadata": {},
   "outputs": [],
   "source": [
    "for letter_in_word in word:\n",
    "# word es la palabra a adivinar\n",
    "# cada iteración recorre una letra de la palabra\n",
    "\n",
    "letter_in_word # es solo el iterable\n",
    "\n",
    "#No usamos letter porque esa es la letra que tiene que ingresar el jugador. \n",
    "#Letter in word es solo un iterable dentro de la letra para poder recorrerla\n",
    "letter es la letra que el jugador acaba de ingresar con input().\n"
   ]
  }
 ],
 "metadata": {
  "language_info": {
   "name": "python"
  }
 },
 "nbformat": 4,
 "nbformat_minor": 5
}
