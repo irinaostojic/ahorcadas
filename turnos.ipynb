{
 "cells": [
  {
   "cell_type": "code",
   "execution_count": null,
   "id": "4bdf49f8",
   "metadata": {},
   "outputs": [],
   "source": [
    "# turn indica el jugador que tiene el turno actual. Es el que está jugando en ese momento.\n",
    "\n",
    "# Vale, entonces, ahora falla y se cambia al otro que es 1-turn, pero como se ha turnado, el que ahora está jugando es turn y el que falla 1-turn.\n",
    "\n",
    "# Entonces, si le decimos a python que el ganador es 1-turn, es correcto, porque está dentro de la parte de derrota, y el que en ese momento estaba\n",
    "# jugando y ha fallado era turn.\n",
    "\n",
    "# Espero que así se entienda bien.\n"
   ]
  }
 ],
 "metadata": {
  "language_info": {
   "name": "python"
  }
 },
 "nbformat": 4,
 "nbformat_minor": 5
}
