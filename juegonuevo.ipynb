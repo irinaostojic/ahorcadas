{
 "cells": [
  {
   "cell_type": "code",
   "execution_count": 5,
   "id": "03c8bf39",
   "metadata": {},
   "outputs": [
    {
     "name": "stdout",
     "output_type": "stream",
     "text": [
      "creatividad\n"
     ]
    }
   ],
   "source": [
    "# OBTENER UNA PALABRA ALEATORIA EN PYTHON DE UNA LISTA DE PALABRAS\n",
    "\n",
    "import random # importamos random para obtener una palabra aleatoria\n",
    "\n",
    "palabras = ['lógica', 'proactividad', 'creatividad', 'resiliencia', 'comunicación']\n",
    "palabra_aleatoria = random.choice(palabras)  # que nos elija una aleatoria de nuestra lista\n",
    "\n",
    "print(palabra_aleatoria)"
   ]
  },
  {
   "cell_type": "code",
   "execution_count": 6,
   "id": "6e0cbbd2",
   "metadata": {},
   "outputs": [],
   "source": [
    "# NECESITAMOS UNA LISTA CON LOS DIBUJOS DE LOS INTENTOS\n",
    "\n",
    "dibujo_ahorcado = [\n",
    "    \"\"\"\n",
    "     +---+\n",
    "     |   |\n",
    "     O   |\n",
    "    /|\\\\  |\n",
    "    / \\\\  |\n",
    "         |\n",
    "    =========\n",
    "    \"\"\",\n",
    "    \"\"\"\n",
    "     +---+\n",
    "     |   |\n",
    "     O   |\n",
    "    /|\\\\  |\n",
    "    /    |\n",
    "         |\n",
    "    =========\n",
    "    \"\"\",\n",
    "    \"\"\"\n",
    "     +---+\n",
    "     |   |\n",
    "     O   |\n",
    "    /|\\\\  |\n",
    "         |\n",
    "         |\n",
    "    =========\n",
    "    \"\"\",\n",
    "    \"\"\"\n",
    "     +---+\n",
    "     |   |\n",
    "     O   |\n",
    "    /|   |\n",
    "         |\n",
    "         |\n",
    "    =========\n",
    "    \"\"\",\n",
    "    \"\"\"\n",
    "     +---+\n",
    "     |   |\n",
    "     O   |\n",
    "     |   |\n",
    "         |\n",
    "         |\n",
    "    =========\n",
    "    \"\"\",\n",
    "    \"\"\"\n",
    "     +---+\n",
    "     |   |\n",
    "     O   |\n",
    "         |\n",
    "         |\n",
    "         |\n",
    "    =========\n",
    "    \"\"\",\n",
    "    \"\"\"\n",
    "     +---+\n",
    "     |   |\n",
    "         |\n",
    "         |\n",
    "         |\n",
    "         |\n",
    "    =========\n",
    "    \"\"\"\n",
    "]"
   ]
  },
  {
   "cell_type": "code",
   "execution_count": null,
   "id": "20a7a9dd",
   "metadata": {},
   "outputs": [],
   "source": [
    "\n",
    "palabra = palabra_aleatoria\n",
    "letras_correctas = []\n",
    "letras_incorrectas = []\n",
    "\n"
   ]
  }
 ],
 "metadata": {
  "kernelspec": {
   "display_name": "base",
   "language": "python",
   "name": "python3"
  },
  "language_info": {
   "codemirror_mode": {
    "name": "ipython",
    "version": 3
   },
   "file_extension": ".py",
   "mimetype": "text/x-python",
   "name": "python",
   "nbconvert_exporter": "python",
   "pygments_lexer": "ipython3",
   "version": "3.13.5"
  }
 },
 "nbformat": 4,
 "nbformat_minor": 5
}
