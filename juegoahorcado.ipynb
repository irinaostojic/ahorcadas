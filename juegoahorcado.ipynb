{
 "cells": [
  {
   "cell_type": "code",
   "execution_count": 1,
   "id": "13bd5a88",
   "metadata": {},
   "outputs": [
    {
     "name": "stdout",
     "output_type": "stream",
     "text": [
      "resiliencia\n",
      "_ _ _ _ _ _ _ _ _ _ _ \n"
     ]
    }
   ],
   "source": [
    "# Le decimos a python que nos genere una palabra aleatoria de una lista que nosotras creamos\n",
    "import random\n",
    "palabras = ['lógica', 'proactividad', 'creatividad', 'resiliencia', 'comunicación']\n",
    "palabra_aleatoria = random.choice(palabras) # que nos elija una aleatoria de nuestra lista\n",
    "print(palabra_aleatoria)\n",
    "print(len(palabra_aleatoria) * \"_ \") # guion por la longitud de la palabra aleatoria"
   ]
  },
  {
   "cell_type": "code",
   "execution_count": 2,
   "id": "589374c6",
   "metadata": {},
   "outputs": [],
   "source": [
    "# Algunas de las variables necesarias para empezar nuestro juego\n",
    "palabra = palabra_aleatoria\n",
    "letras_correctas= []\n",
    "letras_incorrectas = []\n",
    "dibujo_ahorcado = [\n",
    "    (\"\"\"\n",
    "     +---+\n",
    "     |   |\n",
    "         |\n",
    "         |\n",
    "         |\n",
    "         |\n",
    "    =========\n",
    "    \"\"\", \"😀\"),  # 0 fallos\n",
    "    (\"\"\"\n",
    "     +---+\n",
    "     |   |\n",
    "     O   |\n",
    "         |\n",
    "         |\n",
    "         |\n",
    "    =========\n",
    "    \"\"\", \"🙂\"),  # 1 fallo\n",
    "    (\"\"\"\n",
    "     +---+\n",
    "     |   |\n",
    "     O   |\n",
    "     |   |\n",
    "         |\n",
    "         |\n",
    "    =========\n",
    "    \"\"\", \"😐\"),  # 2 fallos\n",
    "    (\"\"\"\n",
    "     +---+\n",
    "     |   |\n",
    "     O   |\n",
    "    /|   |\n",
    "         |\n",
    "         |\n",
    "    =========\n",
    "    \"\"\", \"😟\"),  # 3 fallos\n",
    "    (\"\"\"\n",
    "     +---+\n",
    "     |   |\n",
    "     O   |\n",
    "    /|\\\\  |\n",
    "         |\n",
    "         |\n",
    "    =========\n",
    "    \"\"\", \"😰\"),  # 4 fallos\n",
    "    (\"\"\"\n",
    "     +---+\n",
    "     |   |\n",
    "     O   |\n",
    "    /|\\\\  |\n",
    "    /    |\n",
    "         |\n",
    "    =========\n",
    "    \"\"\", \"😱\"),  # 5 fallos\n",
    "    (\"\"\"\n",
    "     +---+\n",
    "     |   |\n",
    "     O   |\n",
    "    /|\\\\  |\n",
    "    / \\\\  |\n",
    "         |\n",
    "    =========\n",
    "    \"\"\", \"💀\")   # 6 fallos (perdiste)\n",
    "]\n",
    "intentos = len(dibujo_ahorcado) - 1"
   ]
  }
 ],
 "metadata": {
  "kernelspec": {
   "display_name": "base",
   "language": "python",
   "name": "python3"
  },
  "language_info": {
   "codemirror_mode": {
    "name": "ipython",
    "version": 3
   },
   "file_extension": ".py",
   "mimetype": "text/x-python",
   "name": "python",
   "nbconvert_exporter": "python",
   "pygments_lexer": "ipython3",
   "version": "3.13.5"
  }
 },
 "nbformat": 4,
 "nbformat_minor": 5
}
