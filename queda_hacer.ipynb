{
 "cells": [
  {
   "cell_type": "markdown",
   "id": "ad5b5e47",
   "metadata": {},
   "source": [
    "#### COSAS QUE QUEDAN POR HACER\n",
    "##### Pensar si queremos poner iconos o caritas en los prints.\n",
    "##### Canvas\n",
    "##### Nombres de las variables en Inglés\n",
    "##### ReadMe\n"
   ]
  }
 ],
 "metadata": {
  "language_info": {
   "name": "python"
  }
 },
 "nbformat": 4,
 "nbformat_minor": 5
}
